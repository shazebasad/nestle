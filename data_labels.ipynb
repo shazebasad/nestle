{
 "cells": [
  {
   "cell_type": "code",
   "execution_count": 2,
   "id": "b5e80e1a-d849-4f7d-9bf6-94789cd7317d",
   "metadata": {},
   "outputs": [
    {
     "name": "stdout",
     "output_type": "stream",
     "text": [
      "Writing data_labels.py\n"
     ]
    }
   ],
   "source": [
    "%%writefile data_labels.py\n",
    "\n",
    "# label data dictionaries\n",
    "education_labels = {\n",
    "    'Education': [1, 2, 3, 4, 5, 6, 7, 8],\n",
    "    'Education_Label': [\n",
    "        'No formal education',\n",
    "        'Primary school',\n",
    "        'Secondary school',\n",
    "        'High school diploma or equivalent (e.g., GED)',\n",
    "        'Some college or vocational training',\n",
    "        'Bachelor\\'s degree',\n",
    "        'Master\\'s degree',\n",
    "        'Doctorate or professional degree'\n",
    "    ]\n",
    "}\n",
    "\n",
    "income_labels = {\n",
    "    'Income': [1, 2, 3, 4, 5, 6, 7],\n",
    "    'Income_Label': [\n",
    "        'up to 5k',\n",
    "        '5k - 10k',\n",
    "        '10k-20k',\n",
    "        '20k-40k',\n",
    "        '40k-60k',\n",
    "        '60k-80k',\n",
    "        '80k+'\n",
    "    ]\n",
    "}\n",
    "\n",
    "gender_labels = {\n",
    "    'Gender': [1, 2],\n",
    "    'Gender_Label': ['Male', 'Female']\n",
    "}\n",
    "\n",
    "family_status_labels = {\n",
    "    'Family status': [1, 2, 3, 4, 5, 6],\n",
    "    'Family_Status_Label': [\n",
    "        'Single',\n",
    "        'Married',\n",
    "        'Divorced',\n",
    "        'Widowed',\n",
    "        'Separated',\n",
    "        'Domestic Partnership/Civil Union'\n",
    "    ]\n",
    "}\n",
    "\n",
    "age_labels = {\n",
    "    'Age': [1, 2, 3, 4, 5, 6],\n",
    "    'Age_Label': [\n",
    "        '18-25',\n",
    "        '25-35',\n",
    "        '35-45',\n",
    "        '45-55',\n",
    "        '55-65',\n",
    "        '65+'\n",
    "    ]\n",
    "}\n",
    "\n",
    "# Combined label data dictionary\n",
    "label_data_dict = {\n",
    "    'Education': education_labels,\n",
    "    'Income': income_labels,\n",
    "    'Gender': gender_labels,\n",
    "    'Family status': family_status_labels,\n",
    "    'Age': age_labels\n",
    "}"
   ]
  }
 ],
 "metadata": {
  "kernelspec": {
   "display_name": "anaconda-2024.02-py310",
   "language": "python",
   "name": "conda-env-anaconda-2024.02-py310-py"
  },
  "language_info": {
   "codemirror_mode": {
    "name": "ipython",
    "version": 3
   },
   "file_extension": ".py",
   "mimetype": "text/x-python",
   "name": "python",
   "nbconvert_exporter": "python",
   "pygments_lexer": "ipython3",
   "version": "3.10.14"
  }
 },
 "nbformat": 4,
 "nbformat_minor": 5
}
